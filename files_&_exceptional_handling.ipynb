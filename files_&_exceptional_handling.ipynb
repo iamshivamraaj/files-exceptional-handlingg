{
  "nbformat": 4,
  "nbformat_minor": 0,
  "metadata": {
    "colab": {
      "provenance": []
    },
    "kernelspec": {
      "name": "python3",
      "display_name": "Python 3"
    },
    "language_info": {
      "name": "python"
    }
  },
  "cells": [
    {
      "cell_type": "markdown",
      "source": [
        "1.  What is the difference between interpreted and compiled languages?\n",
        " - Interpreted Languages: The code is executed line by line by an interpreter at runtime, without prior conversion into machine code. This makes development faster but execution slower. Examples: Python, JavaScript.\n",
        " - Compiled Languages: The code is first translated into machine code by a compiler before execution. This results in faster execution but requires a compilation step before running. Examples: C, C++."
      ],
      "metadata": {
        "id": "qBGv6ugTlTn2"
      }
    },
    {
      "cell_type": "markdown",
      "source": [
        "2. What is exception handling in Python?\n",
        " - Exception handling in Python is a mechanism that allows you to handle runtime errors gracefully without crashing the program. It is implemented using the try, except, else, and finally blocks.\n",
        "\n",
        " Key Components:\n",
        "\n",
        "try: Contains the code that may raise an exception.\n",
        "except: Catches and handles specific exceptions.\n",
        "else: (Optional) Executes if no exception occurs.\n",
        "finally: (Optional) Always executes, whether an exception occurs or not."
      ],
      "metadata": {
        "id": "2DtMY-AEl-lw"
      }
    },
    {
      "cell_type": "markdown",
      "source": [
        "3. What is the purpose of the finally block in exception handling?\n",
        " - The finally block in exception handling is used to define code that will always execute, regardless of whether an exception occurs or not. It is typically used for cleanup operations like closing files, releasing resources, or disconnecting from databases.\n"
      ],
      "metadata": {
        "id": "8_dl3bPeoBRJ"
      }
    },
    {
      "cell_type": "markdown",
      "source": [
        "4. What is logging in Python?\n",
        " - Logging in Python is a built-in module that allows you to track events in a program, making it easier to debug, monitor, and analyze errors or system behavior. It provides a flexible way to record messages at different severity levels."
      ],
      "metadata": {
        "id": "GJs9GbNYoVu5"
      }
    },
    {
      "cell_type": "markdown",
      "source": [
        "5. What is the significance of the __del__ method in Python?\n",
        " - The __del__ method in Python is a destructor method that is automatically called when an object is about to be destroyed (i.e., when there are no more references to it). It is mainly used to perform cleanup tasks such as closing files, releasing memory, or disconnecting from databases."
      ],
      "metadata": {
        "id": "WwEsAi65ot5q"
      }
    },
    {
      "cell_type": "markdown",
      "source": [
        "6. What is the difference between import and from ... import in Python?\n",
        " - The difference between import and from ... import in Python lies in how they bring modules and functions into your code.\n",
        "\n",
        " 1. import module_name\n",
        "Imports the entire module.\n",
        "You must use the module name to access its functions or attributes.\n",
        " 2. from module_name import function_name\n",
        "Imports only specific functions or variables from a module.\n",
        "You can use the function directly without prefixing the module name."
      ],
      "metadata": {
        "id": "_mgr0jj8o6uX"
      }
    },
    {
      "cell_type": "markdown",
      "source": [
        "7. How can you handle multiple exceptions in Python?\n",
        " - Use multiple except blocks or a tuple (except (TypeError, ValueError) as e:)."
      ],
      "metadata": {
        "id": "tQWQZ8FLqit4"
      }
    },
    {
      "cell_type": "markdown",
      "source": [
        "8. What is the purpose of the with statement when handling files in Python?\n",
        " - It ensures proper resource management by automatically closing the file after execution."
      ],
      "metadata": {
        "id": "stLcK8QogerU"
      }
    },
    {
      "cell_type": "markdown",
      "source": [
        "9. What is the difference between multithreading and multiprocessing?\n",
        " - Multithreading runs multiple threads in the same process (shared memory).\n",
        "\n",
        "  Multiprocessing runs separate processes with independent memory, ideal for CPU-intensive tasks."
      ],
      "metadata": {
        "id": "H9WRMrnbgnlv"
      }
    },
    {
      "cell_type": "markdown",
      "source": [
        "10. What are the advantages of using logging in a program?\n",
        " - Debugging, monitoring, tracking errors, and maintaining records for troubleshooting."
      ],
      "metadata": {
        "id": "NJR4KhkOg5UE"
      }
    },
    {
      "cell_type": "markdown",
      "source": [
        "11. What is memory management in Python?\n",
        " - Python manages memory automatically using reference counting and garbage collection."
      ],
      "metadata": {
        "id": "C6XV1cIwhA3o"
      }
    },
    {
      "cell_type": "markdown",
      "source": [
        "12. What are the basic steps involved in exception handling in Python?\n",
        " - Use try to test code, except to handle exceptions, else for code execution if no error occurs, and finally for cleanup."
      ],
      "metadata": {
        "id": "UpmlVHAqhH-2"
      }
    },
    {
      "cell_type": "markdown",
      "source": [
        "13. Why is memory management important in Python?\n",
        " - Efficient memory usage prevents memory leaks, optimizes performance, and ensures smooth execution.\n"
      ],
      "metadata": {
        "id": "kCb6_I4UhPxk"
      }
    },
    {
      "cell_type": "markdown",
      "source": [
        "14. What is the role of try and except in exception handling?\n",
        " - try: Code that might raise an error.\n",
        "\n",
        "except: Handles the error to prevent crashes."
      ],
      "metadata": {
        "id": "jWd3aQf4hY-P"
      }
    },
    {
      "cell_type": "markdown",
      "source": [
        "15. How does Python's garbage collection system work?\n",
        " - Python automatically deallocates memory using reference counting and a cyclic garbage collector for objects with circular references."
      ],
      "metadata": {
        "id": "J7J0Ib5thjwE"
      }
    },
    {
      "cell_type": "markdown",
      "source": [
        "16. What is the purpose of the else block in exception handling?\n",
        "\n",
        " - It runs only if no exception occurs in the try block.\n"
      ],
      "metadata": {
        "id": "DVFJOQTc4NBo"
      }
    },
    {
      "cell_type": "markdown",
      "source": [
        "17. What are the common logging levels in Python?\n",
        " - DEBUG, INFO, WARNING, ERROR, CRITICAL."
      ],
      "metadata": {
        "id": "yE_MPX_Z4XU8"
      }
    },
    {
      "cell_type": "markdown",
      "source": [
        "18. What is the difference between os.fork() and multiprocessing in Python?\n",
        " - os.fork(): Creates a child process (Unix-based systems).\n",
        "\n",
        "multiprocessing: Cross-platform module for parallel execution."
      ],
      "metadata": {
        "id": "tz8Fg-tY4fwT"
      }
    },
    {
      "cell_type": "markdown",
      "source": [
        "19. What is the importance of closing a file in Python?\n",
        " - It ensures data is written properly and prevents memory/resource leaks.\n"
      ],
      "metadata": {
        "id": "563zo2rM4tQQ"
      }
    },
    {
      "cell_type": "markdown",
      "source": [
        "20. What is the difference between file.read() and file.readline() in Python?\n",
        " - file.read(): Reads the entire file at once.\n",
        "\n",
        "file.readline(): Reads one line at a time."
      ],
      "metadata": {
        "id": "_J9p50t84z1D"
      }
    },
    {
      "cell_type": "markdown",
      "source": [
        "21. What is the logging module in Python used for?\n",
        " - It is used for recording program execution details, errors, and debugging information."
      ],
      "metadata": {
        "id": "YYcM1tD84-BU"
      }
    },
    {
      "cell_type": "markdown",
      "source": [
        "22. What is the os module in Python used for in file handling?\n",
        " - It provides functions for interacting with the operating system, such as os.rename(), os.remove(), and os.mkdir()."
      ],
      "metadata": {
        "id": "loE8nQUm5Kr2"
      }
    },
    {
      "cell_type": "markdown",
      "source": [
        "23. What are the challenges associated with memory management in Python?\n",
        " - Memory leaks, fragmentation, excessive garbage collection, and performance overhead in large applications."
      ],
      "metadata": {
        "id": "ipXEabxY5Uu9"
      }
    },
    {
      "cell_type": "markdown",
      "source": [
        "24. How do you raise an exception manually in Python?\n",
        " - Use raise Exception(\"Error message\")."
      ],
      "metadata": {
        "id": "lzzg2Gml5i-E"
      }
    },
    {
      "cell_type": "markdown",
      "source": [
        "25. Why is it important to use multithreading in certain applications?\n",
        " - It improves performance for I/O-bound tasks like web scraping, file reading, and network requests."
      ],
      "metadata": {
        "id": "XMTgnHaa5rlk"
      }
    },
    {
      "cell_type": "markdown",
      "source": [],
      "metadata": {
        "id": "ICcdsKoA58v5"
      }
    }
  ]
}